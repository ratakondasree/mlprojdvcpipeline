{
 "cells": [
  {
   "cell_type": "code",
   "execution_count": 12,
   "id": "ffab49a1",
   "metadata": {},
   "outputs": [],
   "source": [
    "import yaml, pathlib"
   ]
  },
  {
   "cell_type": "code",
   "execution_count": 3,
   "id": "906ed0e9",
   "metadata": {},
   "outputs": [],
   "source": [
    "params=yaml.safe_load(open('params.yaml'))"
   ]
  },
  {
   "cell_type": "code",
   "execution_count": 7,
   "id": "7060ab41",
   "metadata": {},
   "outputs": [
    {
     "data": {
      "text/plain": [
       "{'data': {'raw_dir': 'data/raw',\n",
       "  'processed_dir': 'data/processed',\n",
       "  'train_ratio': 0.8},\n",
       " 'features': {'scale': True},\n",
       " 'train': {'test_size': 0.2,\n",
       "  'random_state': 42,\n",
       "  'n_estimators': 200,\n",
       "  'max_depth': 6},\n",
       " 'paths': {'model_dir': 'models', 'metrics_dir': 'metrics'}}"
      ]
     },
     "execution_count": 7,
     "metadata": {},
     "output_type": "execute_result"
    }
   ],
   "source": [
    "params"
   ]
  },
  {
   "cell_type": "code",
   "execution_count": 13,
   "id": "10602311",
   "metadata": {},
   "outputs": [],
   "source": [
    "rawdir=pathlib.Path(params['data']['raw_dir'])"
   ]
  },
  {
   "cell_type": "code",
   "execution_count": 14,
   "id": "cac001a4",
   "metadata": {},
   "outputs": [
    {
     "data": {
      "text/plain": [
       "WindowsPath('data/raw')"
      ]
     },
     "execution_count": 14,
     "metadata": {},
     "output_type": "execute_result"
    }
   ],
   "source": [
    "rawdir"
   ]
  },
  {
   "cell_type": "code",
   "execution_count": null,
   "id": "039117f7",
   "metadata": {},
   "outputs": [],
   "source": []
  }
 ],
 "metadata": {
  "kernelspec": {
   "display_name": "venv",
   "language": "python",
   "name": "python3"
  },
  "language_info": {
   "codemirror_mode": {
    "name": "ipython",
    "version": 3
   },
   "file_extension": ".py",
   "mimetype": "text/x-python",
   "name": "python",
   "nbconvert_exporter": "python",
   "pygments_lexer": "ipython3",
   "version": "3.12.0"
  }
 },
 "nbformat": 4,
 "nbformat_minor": 5
}
